{
  "nbformat": 4,
  "nbformat_minor": 0,
  "metadata": {
    "colab": {
      "provenance": [],
      "collapsed_sections": [],
      "authorship_tag": "ABX9TyMneAAICnWnh1161hKtwbTB",
      "include_colab_link": true
    },
    "kernelspec": {
      "name": "python3",
      "display_name": "Python 3"
    },
    "language_info": {
      "name": "python"
    }
  },
  "cells": [
    {
      "cell_type": "markdown",
      "metadata": {
        "id": "view-in-github",
        "colab_type": "text"
      },
      "source": [
        "<a href=\"https://colab.research.google.com/github/Batek26/machine_learning_bootcamp/blob/main/text_data.ipynb\" target=\"_parent\"><img src=\"https://colab.research.google.com/assets/colab-badge.svg\" alt=\"Open In Colab\"/></a>"
      ]
    },
    {
      "cell_type": "markdown",
      "source": [
        "Library import"
      ],
      "metadata": {
        "id": "Lt9g5AlMpMVs"
      }
    },
    {
      "cell_type": "code",
      "execution_count": 1,
      "metadata": {
        "id": "r1AnTwoloZGi"
      },
      "outputs": [],
      "source": [
        "import numpy as np\n",
        "import pandas as pd\n",
        "import matplotlib.pyplot as plt\n",
        "import sklearn\n",
        "\n",
        "np.random.seed(42)\n",
        "np.set_printoptions(precision=6, suppress=True, edgeitems=10, linewidth=1000, formatter=dict(float=lambda x: f'{x:.2f}'))"
      ]
    },
    {
      "cell_type": "markdown",
      "source": [
        "Generate data"
      ],
      "metadata": {
        "id": "_bYmw_A2pLPU"
      }
    },
    {
      "cell_type": "code",
      "source": [
        "documents = [\n",
        "    'Today is Friday',\n",
        "    'I like Friday',\n",
        "    'Today I am going to learn Python',\n",
        "    'Friday, Friday!!!'\n",
        "]\n",
        "\n",
        "print(documents)"
      ],
      "metadata": {
        "colab": {
          "base_uri": "https://localhost:8080/"
        },
        "id": "iLi4cI3Oo8x3",
        "outputId": "587ffa18-af51-4505-8dc0-0b91f00ebd62"
      },
      "execution_count": 2,
      "outputs": [
        {
          "output_type": "stream",
          "name": "stdout",
          "text": [
            "['Today is Friday', 'I like Friday', 'Today I am going to learn Python', 'Friday, Friday!!!']\n"
          ]
        }
      ]
    },
    {
      "cell_type": "markdown",
      "source": [
        "Vectorizer"
      ],
      "metadata": {
        "id": "hsfkr6SApOwa"
      }
    },
    {
      "cell_type": "code",
      "source": [
        "from sklearn.feature_extraction.text import CountVectorizer\n",
        "\n",
        "vectorizer = CountVectorizer()\n",
        "vectorizer.fit_transform(documents)"
      ],
      "metadata": {
        "colab": {
          "base_uri": "https://localhost:8080/"
        },
        "id": "TS60K3uhpR2s",
        "outputId": "b893ce9b-9f7e-45f2-884f-9e3e7ac5ff87"
      },
      "execution_count": 3,
      "outputs": [
        {
          "output_type": "execute_result",
          "data": {
            "text/plain": [
              "<4x9 sparse matrix of type '<class 'numpy.int64'>'\n",
              "\twith 12 stored elements in Compressed Sparse Row format>"
            ]
          },
          "metadata": {},
          "execution_count": 3
        }
      ]
    },
    {
      "cell_type": "code",
      "source": [
        "vectorizer.fit_transform(documents).toarray()"
      ],
      "metadata": {
        "colab": {
          "base_uri": "https://localhost:8080/"
        },
        "id": "E8u12lrcplJh",
        "outputId": "be17a1ad-7b81-49d9-e5e1-864288c84c63"
      },
      "execution_count": 4,
      "outputs": [
        {
          "output_type": "execute_result",
          "data": {
            "text/plain": [
              "array([[0, 1, 0, 1, 0, 0, 0, 0, 1],\n",
              "       [0, 1, 0, 0, 0, 1, 0, 0, 0],\n",
              "       [1, 0, 1, 0, 1, 0, 1, 1, 1],\n",
              "       [0, 2, 0, 0, 0, 0, 0, 0, 0]])"
            ]
          },
          "metadata": {},
          "execution_count": 4
        }
      ]
    },
    {
      "cell_type": "code",
      "source": [
        "vectorizer.get_feature_names_out()"
      ],
      "metadata": {
        "colab": {
          "base_uri": "https://localhost:8080/"
        },
        "id": "Moyn3LuWppeE",
        "outputId": "fbf6d99e-9c73-4a17-e570-984315bda311"
      },
      "execution_count": 7,
      "outputs": [
        {
          "output_type": "execute_result",
          "data": {
            "text/plain": [
              "array(['am', 'friday', 'going', 'is', 'learn', 'like', 'python', 'to', 'today'], dtype=object)"
            ]
          },
          "metadata": {},
          "execution_count": 7
        }
      ]
    },
    {
      "cell_type": "code",
      "source": [
        "df = pd.DataFrame(data=vectorizer.fit_transform(documents).toarray(), \n",
        "                  columns=vectorizer.get_feature_names_out())\n",
        "\n",
        "df"
      ],
      "metadata": {
        "colab": {
          "base_uri": "https://localhost:8080/",
          "height": 175
        },
        "id": "lr9V3GfNpzPG",
        "outputId": "e1d50d72-3f9a-4c57-bfd3-2aaabd1c9d96"
      },
      "execution_count": 8,
      "outputs": [
        {
          "output_type": "execute_result",
          "data": {
            "text/plain": [
              "   am  friday  going  is  learn  like  python  to  today\n",
              "0   0       1      0   1      0     0       0   0      1\n",
              "1   0       1      0   0      0     1       0   0      0\n",
              "2   1       0      1   0      1     0       1   1      1\n",
              "3   0       2      0   0      0     0       0   0      0"
            ],
            "text/html": [
              "\n",
              "  <div id=\"df-d0f40c3a-f188-44e4-9762-c7768e08f576\">\n",
              "    <div class=\"colab-df-container\">\n",
              "      <div>\n",
              "<style scoped>\n",
              "    .dataframe tbody tr th:only-of-type {\n",
              "        vertical-align: middle;\n",
              "    }\n",
              "\n",
              "    .dataframe tbody tr th {\n",
              "        vertical-align: top;\n",
              "    }\n",
              "\n",
              "    .dataframe thead th {\n",
              "        text-align: right;\n",
              "    }\n",
              "</style>\n",
              "<table border=\"1\" class=\"dataframe\">\n",
              "  <thead>\n",
              "    <tr style=\"text-align: right;\">\n",
              "      <th></th>\n",
              "      <th>am</th>\n",
              "      <th>friday</th>\n",
              "      <th>going</th>\n",
              "      <th>is</th>\n",
              "      <th>learn</th>\n",
              "      <th>like</th>\n",
              "      <th>python</th>\n",
              "      <th>to</th>\n",
              "      <th>today</th>\n",
              "    </tr>\n",
              "  </thead>\n",
              "  <tbody>\n",
              "    <tr>\n",
              "      <th>0</th>\n",
              "      <td>0</td>\n",
              "      <td>1</td>\n",
              "      <td>0</td>\n",
              "      <td>1</td>\n",
              "      <td>0</td>\n",
              "      <td>0</td>\n",
              "      <td>0</td>\n",
              "      <td>0</td>\n",
              "      <td>1</td>\n",
              "    </tr>\n",
              "    <tr>\n",
              "      <th>1</th>\n",
              "      <td>0</td>\n",
              "      <td>1</td>\n",
              "      <td>0</td>\n",
              "      <td>0</td>\n",
              "      <td>0</td>\n",
              "      <td>1</td>\n",
              "      <td>0</td>\n",
              "      <td>0</td>\n",
              "      <td>0</td>\n",
              "    </tr>\n",
              "    <tr>\n",
              "      <th>2</th>\n",
              "      <td>1</td>\n",
              "      <td>0</td>\n",
              "      <td>1</td>\n",
              "      <td>0</td>\n",
              "      <td>1</td>\n",
              "      <td>0</td>\n",
              "      <td>1</td>\n",
              "      <td>1</td>\n",
              "      <td>1</td>\n",
              "    </tr>\n",
              "    <tr>\n",
              "      <th>3</th>\n",
              "      <td>0</td>\n",
              "      <td>2</td>\n",
              "      <td>0</td>\n",
              "      <td>0</td>\n",
              "      <td>0</td>\n",
              "      <td>0</td>\n",
              "      <td>0</td>\n",
              "      <td>0</td>\n",
              "      <td>0</td>\n",
              "    </tr>\n",
              "  </tbody>\n",
              "</table>\n",
              "</div>\n",
              "      <button class=\"colab-df-convert\" onclick=\"convertToInteractive('df-d0f40c3a-f188-44e4-9762-c7768e08f576')\"\n",
              "              title=\"Convert this dataframe to an interactive table.\"\n",
              "              style=\"display:none;\">\n",
              "        \n",
              "  <svg xmlns=\"http://www.w3.org/2000/svg\" height=\"24px\"viewBox=\"0 0 24 24\"\n",
              "       width=\"24px\">\n",
              "    <path d=\"M0 0h24v24H0V0z\" fill=\"none\"/>\n",
              "    <path d=\"M18.56 5.44l.94 2.06.94-2.06 2.06-.94-2.06-.94-.94-2.06-.94 2.06-2.06.94zm-11 1L8.5 8.5l.94-2.06 2.06-.94-2.06-.94L8.5 2.5l-.94 2.06-2.06.94zm10 10l.94 2.06.94-2.06 2.06-.94-2.06-.94-.94-2.06-.94 2.06-2.06.94z\"/><path d=\"M17.41 7.96l-1.37-1.37c-.4-.4-.92-.59-1.43-.59-.52 0-1.04.2-1.43.59L10.3 9.45l-7.72 7.72c-.78.78-.78 2.05 0 2.83L4 21.41c.39.39.9.59 1.41.59.51 0 1.02-.2 1.41-.59l7.78-7.78 2.81-2.81c.8-.78.8-2.07 0-2.86zM5.41 20L4 18.59l7.72-7.72 1.47 1.35L5.41 20z\"/>\n",
              "  </svg>\n",
              "      </button>\n",
              "      \n",
              "  <style>\n",
              "    .colab-df-container {\n",
              "      display:flex;\n",
              "      flex-wrap:wrap;\n",
              "      gap: 12px;\n",
              "    }\n",
              "\n",
              "    .colab-df-convert {\n",
              "      background-color: #E8F0FE;\n",
              "      border: none;\n",
              "      border-radius: 50%;\n",
              "      cursor: pointer;\n",
              "      display: none;\n",
              "      fill: #1967D2;\n",
              "      height: 32px;\n",
              "      padding: 0 0 0 0;\n",
              "      width: 32px;\n",
              "    }\n",
              "\n",
              "    .colab-df-convert:hover {\n",
              "      background-color: #E2EBFA;\n",
              "      box-shadow: 0px 1px 2px rgba(60, 64, 67, 0.3), 0px 1px 3px 1px rgba(60, 64, 67, 0.15);\n",
              "      fill: #174EA6;\n",
              "    }\n",
              "\n",
              "    [theme=dark] .colab-df-convert {\n",
              "      background-color: #3B4455;\n",
              "      fill: #D2E3FC;\n",
              "    }\n",
              "\n",
              "    [theme=dark] .colab-df-convert:hover {\n",
              "      background-color: #434B5C;\n",
              "      box-shadow: 0px 1px 3px 1px rgba(0, 0, 0, 0.15);\n",
              "      filter: drop-shadow(0px 1px 2px rgba(0, 0, 0, 0.3));\n",
              "      fill: #FFFFFF;\n",
              "    }\n",
              "  </style>\n",
              "\n",
              "      <script>\n",
              "        const buttonEl =\n",
              "          document.querySelector('#df-d0f40c3a-f188-44e4-9762-c7768e08f576 button.colab-df-convert');\n",
              "        buttonEl.style.display =\n",
              "          google.colab.kernel.accessAllowed ? 'block' : 'none';\n",
              "\n",
              "        async function convertToInteractive(key) {\n",
              "          const element = document.querySelector('#df-d0f40c3a-f188-44e4-9762-c7768e08f576');\n",
              "          const dataTable =\n",
              "            await google.colab.kernel.invokeFunction('convertToInteractive',\n",
              "                                                     [key], {});\n",
              "          if (!dataTable) return;\n",
              "\n",
              "          const docLinkHtml = 'Like what you see? Visit the ' +\n",
              "            '<a target=\"_blank\" href=https://colab.research.google.com/notebooks/data_table.ipynb>data table notebook</a>'\n",
              "            + ' to learn more about interactive tables.';\n",
              "          element.innerHTML = '';\n",
              "          dataTable['output_type'] = 'display_data';\n",
              "          await google.colab.output.renderOutput(dataTable, element);\n",
              "          const docLink = document.createElement('div');\n",
              "          docLink.innerHTML = docLinkHtml;\n",
              "          element.appendChild(docLink);\n",
              "        }\n",
              "      </script>\n",
              "    </div>\n",
              "  </div>\n",
              "  "
            ]
          },
          "metadata": {},
          "execution_count": 8
        }
      ]
    },
    {
      "cell_type": "code",
      "source": [
        "vectorizer.vocabulary_"
      ],
      "metadata": {
        "colab": {
          "base_uri": "https://localhost:8080/"
        },
        "id": "YTQMdYZgqMDC",
        "outputId": "d1d8295e-f0b7-4576-923a-bcd187c8c4c0"
      },
      "execution_count": 9,
      "outputs": [
        {
          "output_type": "execute_result",
          "data": {
            "text/plain": [
              "{'today': 8,\n",
              " 'is': 3,\n",
              " 'friday': 1,\n",
              " 'like': 5,\n",
              " 'am': 0,\n",
              " 'going': 2,\n",
              " 'to': 7,\n",
              " 'learn': 4,\n",
              " 'python': 6}"
            ]
          },
          "metadata": {},
          "execution_count": 9
        }
      ]
    },
    {
      "cell_type": "code",
      "source": [
        "vectorizer.transform(['Friday morning']).toarray()"
      ],
      "metadata": {
        "colab": {
          "base_uri": "https://localhost:8080/"
        },
        "id": "VB3jGkDKqSsg",
        "outputId": "a59e8cb1-4483-4ee3-bb6a-d4546ac06e45"
      },
      "execution_count": 10,
      "outputs": [
        {
          "output_type": "execute_result",
          "data": {
            "text/plain": [
              "array([[0, 1, 0, 0, 0, 0, 0, 0, 0]])"
            ]
          },
          "metadata": {},
          "execution_count": 10
        }
      ]
    },
    {
      "cell_type": "markdown",
      "source": [
        "Vectorizer - bigram"
      ],
      "metadata": {
        "id": "gy3a5UpPqd72"
      }
    },
    {
      "cell_type": "code",
      "source": [
        "bigram = CountVectorizer(ngram_range=(1, 2), min_df=1)\n",
        "bigram.fit_transform(documents).toarray()"
      ],
      "metadata": {
        "colab": {
          "base_uri": "https://localhost:8080/"
        },
        "id": "diFDt42Rqgb8",
        "outputId": "1423a7f2-986d-4b5e-c51d-4b85fa754753"
      },
      "execution_count": 11,
      "outputs": [
        {
          "output_type": "execute_result",
          "data": {
            "text/plain": [
              "array([[0, 0, 1, 0, 0, 0, 1, 1, 0, 0, 0, 0, 0, 0, 0, 1, 0, 1],\n",
              "       [0, 0, 1, 0, 0, 0, 0, 0, 0, 0, 1, 1, 0, 0, 0, 0, 0, 0],\n",
              "       [1, 1, 0, 0, 1, 1, 0, 0, 1, 1, 0, 0, 1, 1, 1, 1, 1, 0],\n",
              "       [0, 0, 2, 1, 0, 0, 0, 0, 0, 0, 0, 0, 0, 0, 0, 0, 0, 0]])"
            ]
          },
          "metadata": {},
          "execution_count": 11
        }
      ]
    },
    {
      "cell_type": "code",
      "source": [
        "bigram.vocabulary_"
      ],
      "metadata": {
        "colab": {
          "base_uri": "https://localhost:8080/"
        },
        "id": "OZyCzcEFqt_V",
        "outputId": "e0f4e07a-faf6-4243-f23e-4484cc2133c1"
      },
      "execution_count": 12,
      "outputs": [
        {
          "output_type": "execute_result",
          "data": {
            "text/plain": [
              "{'today': 15,\n",
              " 'is': 6,\n",
              " 'friday': 2,\n",
              " 'today is': 17,\n",
              " 'is friday': 7,\n",
              " 'like': 10,\n",
              " 'like friday': 11,\n",
              " 'am': 0,\n",
              " 'going': 4,\n",
              " 'to': 13,\n",
              " 'learn': 8,\n",
              " 'python': 12,\n",
              " 'today am': 16,\n",
              " 'am going': 1,\n",
              " 'going to': 5,\n",
              " 'to learn': 14,\n",
              " 'learn python': 9,\n",
              " 'friday friday': 3}"
            ]
          },
          "metadata": {},
          "execution_count": 12
        }
      ]
    },
    {
      "cell_type": "code",
      "source": [
        "df = pd.DataFrame(data=bigram.fit_transform(documents).toarray(),\n",
        "                 columns=bigram.get_feature_names_out())\n",
        "df"
      ],
      "metadata": {
        "colab": {
          "base_uri": "https://localhost:8080/",
          "height": 175
        },
        "id": "qxG99Hniqykd",
        "outputId": "cfebcfce-f111-4054-9c01-704594753cf9"
      },
      "execution_count": 14,
      "outputs": [
        {
          "output_type": "execute_result",
          "data": {
            "text/plain": [
              "   am  am going  friday  friday friday  going  going to  is  is friday  learn  \\\n",
              "0   0         0       1              0      0         0   1          1      0   \n",
              "1   0         0       1              0      0         0   0          0      0   \n",
              "2   1         1       0              0      1         1   0          0      1   \n",
              "3   0         0       2              1      0         0   0          0      0   \n",
              "\n",
              "   learn python  like  like friday  python  to  to learn  today  today am  \\\n",
              "0             0     0            0       0   0         0      1         0   \n",
              "1             0     1            1       0   0         0      0         0   \n",
              "2             1     0            0       1   1         1      1         1   \n",
              "3             0     0            0       0   0         0      0         0   \n",
              "\n",
              "   today is  \n",
              "0         1  \n",
              "1         0  \n",
              "2         0  \n",
              "3         0  "
            ],
            "text/html": [
              "\n",
              "  <div id=\"df-658dc5d4-61d1-4178-8f57-b5b38ffd21cb\">\n",
              "    <div class=\"colab-df-container\">\n",
              "      <div>\n",
              "<style scoped>\n",
              "    .dataframe tbody tr th:only-of-type {\n",
              "        vertical-align: middle;\n",
              "    }\n",
              "\n",
              "    .dataframe tbody tr th {\n",
              "        vertical-align: top;\n",
              "    }\n",
              "\n",
              "    .dataframe thead th {\n",
              "        text-align: right;\n",
              "    }\n",
              "</style>\n",
              "<table border=\"1\" class=\"dataframe\">\n",
              "  <thead>\n",
              "    <tr style=\"text-align: right;\">\n",
              "      <th></th>\n",
              "      <th>am</th>\n",
              "      <th>am going</th>\n",
              "      <th>friday</th>\n",
              "      <th>friday friday</th>\n",
              "      <th>going</th>\n",
              "      <th>going to</th>\n",
              "      <th>is</th>\n",
              "      <th>is friday</th>\n",
              "      <th>learn</th>\n",
              "      <th>learn python</th>\n",
              "      <th>like</th>\n",
              "      <th>like friday</th>\n",
              "      <th>python</th>\n",
              "      <th>to</th>\n",
              "      <th>to learn</th>\n",
              "      <th>today</th>\n",
              "      <th>today am</th>\n",
              "      <th>today is</th>\n",
              "    </tr>\n",
              "  </thead>\n",
              "  <tbody>\n",
              "    <tr>\n",
              "      <th>0</th>\n",
              "      <td>0</td>\n",
              "      <td>0</td>\n",
              "      <td>1</td>\n",
              "      <td>0</td>\n",
              "      <td>0</td>\n",
              "      <td>0</td>\n",
              "      <td>1</td>\n",
              "      <td>1</td>\n",
              "      <td>0</td>\n",
              "      <td>0</td>\n",
              "      <td>0</td>\n",
              "      <td>0</td>\n",
              "      <td>0</td>\n",
              "      <td>0</td>\n",
              "      <td>0</td>\n",
              "      <td>1</td>\n",
              "      <td>0</td>\n",
              "      <td>1</td>\n",
              "    </tr>\n",
              "    <tr>\n",
              "      <th>1</th>\n",
              "      <td>0</td>\n",
              "      <td>0</td>\n",
              "      <td>1</td>\n",
              "      <td>0</td>\n",
              "      <td>0</td>\n",
              "      <td>0</td>\n",
              "      <td>0</td>\n",
              "      <td>0</td>\n",
              "      <td>0</td>\n",
              "      <td>0</td>\n",
              "      <td>1</td>\n",
              "      <td>1</td>\n",
              "      <td>0</td>\n",
              "      <td>0</td>\n",
              "      <td>0</td>\n",
              "      <td>0</td>\n",
              "      <td>0</td>\n",
              "      <td>0</td>\n",
              "    </tr>\n",
              "    <tr>\n",
              "      <th>2</th>\n",
              "      <td>1</td>\n",
              "      <td>1</td>\n",
              "      <td>0</td>\n",
              "      <td>0</td>\n",
              "      <td>1</td>\n",
              "      <td>1</td>\n",
              "      <td>0</td>\n",
              "      <td>0</td>\n",
              "      <td>1</td>\n",
              "      <td>1</td>\n",
              "      <td>0</td>\n",
              "      <td>0</td>\n",
              "      <td>1</td>\n",
              "      <td>1</td>\n",
              "      <td>1</td>\n",
              "      <td>1</td>\n",
              "      <td>1</td>\n",
              "      <td>0</td>\n",
              "    </tr>\n",
              "    <tr>\n",
              "      <th>3</th>\n",
              "      <td>0</td>\n",
              "      <td>0</td>\n",
              "      <td>2</td>\n",
              "      <td>1</td>\n",
              "      <td>0</td>\n",
              "      <td>0</td>\n",
              "      <td>0</td>\n",
              "      <td>0</td>\n",
              "      <td>0</td>\n",
              "      <td>0</td>\n",
              "      <td>0</td>\n",
              "      <td>0</td>\n",
              "      <td>0</td>\n",
              "      <td>0</td>\n",
              "      <td>0</td>\n",
              "      <td>0</td>\n",
              "      <td>0</td>\n",
              "      <td>0</td>\n",
              "    </tr>\n",
              "  </tbody>\n",
              "</table>\n",
              "</div>\n",
              "      <button class=\"colab-df-convert\" onclick=\"convertToInteractive('df-658dc5d4-61d1-4178-8f57-b5b38ffd21cb')\"\n",
              "              title=\"Convert this dataframe to an interactive table.\"\n",
              "              style=\"display:none;\">\n",
              "        \n",
              "  <svg xmlns=\"http://www.w3.org/2000/svg\" height=\"24px\"viewBox=\"0 0 24 24\"\n",
              "       width=\"24px\">\n",
              "    <path d=\"M0 0h24v24H0V0z\" fill=\"none\"/>\n",
              "    <path d=\"M18.56 5.44l.94 2.06.94-2.06 2.06-.94-2.06-.94-.94-2.06-.94 2.06-2.06.94zm-11 1L8.5 8.5l.94-2.06 2.06-.94-2.06-.94L8.5 2.5l-.94 2.06-2.06.94zm10 10l.94 2.06.94-2.06 2.06-.94-2.06-.94-.94-2.06-.94 2.06-2.06.94z\"/><path d=\"M17.41 7.96l-1.37-1.37c-.4-.4-.92-.59-1.43-.59-.52 0-1.04.2-1.43.59L10.3 9.45l-7.72 7.72c-.78.78-.78 2.05 0 2.83L4 21.41c.39.39.9.59 1.41.59.51 0 1.02-.2 1.41-.59l7.78-7.78 2.81-2.81c.8-.78.8-2.07 0-2.86zM5.41 20L4 18.59l7.72-7.72 1.47 1.35L5.41 20z\"/>\n",
              "  </svg>\n",
              "      </button>\n",
              "      \n",
              "  <style>\n",
              "    .colab-df-container {\n",
              "      display:flex;\n",
              "      flex-wrap:wrap;\n",
              "      gap: 12px;\n",
              "    }\n",
              "\n",
              "    .colab-df-convert {\n",
              "      background-color: #E8F0FE;\n",
              "      border: none;\n",
              "      border-radius: 50%;\n",
              "      cursor: pointer;\n",
              "      display: none;\n",
              "      fill: #1967D2;\n",
              "      height: 32px;\n",
              "      padding: 0 0 0 0;\n",
              "      width: 32px;\n",
              "    }\n",
              "\n",
              "    .colab-df-convert:hover {\n",
              "      background-color: #E2EBFA;\n",
              "      box-shadow: 0px 1px 2px rgba(60, 64, 67, 0.3), 0px 1px 3px 1px rgba(60, 64, 67, 0.15);\n",
              "      fill: #174EA6;\n",
              "    }\n",
              "\n",
              "    [theme=dark] .colab-df-convert {\n",
              "      background-color: #3B4455;\n",
              "      fill: #D2E3FC;\n",
              "    }\n",
              "\n",
              "    [theme=dark] .colab-df-convert:hover {\n",
              "      background-color: #434B5C;\n",
              "      box-shadow: 0px 1px 3px 1px rgba(0, 0, 0, 0.15);\n",
              "      filter: drop-shadow(0px 1px 2px rgba(0, 0, 0, 0.3));\n",
              "      fill: #FFFFFF;\n",
              "    }\n",
              "  </style>\n",
              "\n",
              "      <script>\n",
              "        const buttonEl =\n",
              "          document.querySelector('#df-658dc5d4-61d1-4178-8f57-b5b38ffd21cb button.colab-df-convert');\n",
              "        buttonEl.style.display =\n",
              "          google.colab.kernel.accessAllowed ? 'block' : 'none';\n",
              "\n",
              "        async function convertToInteractive(key) {\n",
              "          const element = document.querySelector('#df-658dc5d4-61d1-4178-8f57-b5b38ffd21cb');\n",
              "          const dataTable =\n",
              "            await google.colab.kernel.invokeFunction('convertToInteractive',\n",
              "                                                     [key], {});\n",
              "          if (!dataTable) return;\n",
              "\n",
              "          const docLinkHtml = 'Like what you see? Visit the ' +\n",
              "            '<a target=\"_blank\" href=https://colab.research.google.com/notebooks/data_table.ipynb>data table notebook</a>'\n",
              "            + ' to learn more about interactive tables.';\n",
              "          element.innerHTML = '';\n",
              "          dataTable['output_type'] = 'display_data';\n",
              "          await google.colab.output.renderOutput(dataTable, element);\n",
              "          const docLink = document.createElement('div');\n",
              "          docLink.innerHTML = docLinkHtml;\n",
              "          element.appendChild(docLink);\n",
              "        }\n",
              "      </script>\n",
              "    </div>\n",
              "  </div>\n",
              "  "
            ]
          },
          "metadata": {},
          "execution_count": 14
        }
      ]
    },
    {
      "cell_type": "markdown",
      "source": [
        "TFIDF transformer"
      ],
      "metadata": {
        "id": "RfNuJue7rOPb"
      }
    },
    {
      "cell_type": "code",
      "source": [
        "documents = [\n",
        "    'Friday morning',\n",
        "    'Friday chill',\n",
        "    'Friday - morning',\n",
        "    'Friday, Friday morning!!!'\n",
        "]\n",
        "\n",
        "print(documents)"
      ],
      "metadata": {
        "colab": {
          "base_uri": "https://localhost:8080/"
        },
        "id": "m6W__A3brROv",
        "outputId": "1ba583b1-704e-4426-f2c9-d8d0444ac477"
      },
      "execution_count": 15,
      "outputs": [
        {
          "output_type": "stream",
          "name": "stdout",
          "text": [
            "['Friday morning', 'Friday chill', 'Friday - morning', 'Friday, Friday morning!!!']\n"
          ]
        }
      ]
    },
    {
      "cell_type": "code",
      "source": [
        "counts = vectorizer.fit_transform(documents).toarray()\n",
        "counts"
      ],
      "metadata": {
        "colab": {
          "base_uri": "https://localhost:8080/"
        },
        "id": "I-Eu9RybrfXL",
        "outputId": "a15ed12f-6d93-4f92-d79a-aa92f5ed6a03"
      },
      "execution_count": 16,
      "outputs": [
        {
          "output_type": "execute_result",
          "data": {
            "text/plain": [
              "array([[0, 1, 1],\n",
              "       [1, 1, 0],\n",
              "       [0, 1, 1],\n",
              "       [0, 2, 1]])"
            ]
          },
          "metadata": {},
          "execution_count": 16
        }
      ]
    },
    {
      "cell_type": "code",
      "source": [
        "df = pd.DataFrame(data=vectorizer.fit_transform(documents).toarray(),\n",
        "                  columns=vectorizer.get_feature_names_out())\n",
        "df"
      ],
      "metadata": {
        "colab": {
          "base_uri": "https://localhost:8080/",
          "height": 175
        },
        "id": "IE-SwZTzrn7d",
        "outputId": "0d0f4af4-e979-4bdc-9604-eb431e0d81e5"
      },
      "execution_count": 18,
      "outputs": [
        {
          "output_type": "execute_result",
          "data": {
            "text/plain": [
              "   chill  friday  morning\n",
              "0      0       1        1\n",
              "1      1       1        0\n",
              "2      0       1        1\n",
              "3      0       2        1"
            ],
            "text/html": [
              "\n",
              "  <div id=\"df-daa4b2d9-511b-4bf8-8062-f98862a22040\">\n",
              "    <div class=\"colab-df-container\">\n",
              "      <div>\n",
              "<style scoped>\n",
              "    .dataframe tbody tr th:only-of-type {\n",
              "        vertical-align: middle;\n",
              "    }\n",
              "\n",
              "    .dataframe tbody tr th {\n",
              "        vertical-align: top;\n",
              "    }\n",
              "\n",
              "    .dataframe thead th {\n",
              "        text-align: right;\n",
              "    }\n",
              "</style>\n",
              "<table border=\"1\" class=\"dataframe\">\n",
              "  <thead>\n",
              "    <tr style=\"text-align: right;\">\n",
              "      <th></th>\n",
              "      <th>chill</th>\n",
              "      <th>friday</th>\n",
              "      <th>morning</th>\n",
              "    </tr>\n",
              "  </thead>\n",
              "  <tbody>\n",
              "    <tr>\n",
              "      <th>0</th>\n",
              "      <td>0</td>\n",
              "      <td>1</td>\n",
              "      <td>1</td>\n",
              "    </tr>\n",
              "    <tr>\n",
              "      <th>1</th>\n",
              "      <td>1</td>\n",
              "      <td>1</td>\n",
              "      <td>0</td>\n",
              "    </tr>\n",
              "    <tr>\n",
              "      <th>2</th>\n",
              "      <td>0</td>\n",
              "      <td>1</td>\n",
              "      <td>1</td>\n",
              "    </tr>\n",
              "    <tr>\n",
              "      <th>3</th>\n",
              "      <td>0</td>\n",
              "      <td>2</td>\n",
              "      <td>1</td>\n",
              "    </tr>\n",
              "  </tbody>\n",
              "</table>\n",
              "</div>\n",
              "      <button class=\"colab-df-convert\" onclick=\"convertToInteractive('df-daa4b2d9-511b-4bf8-8062-f98862a22040')\"\n",
              "              title=\"Convert this dataframe to an interactive table.\"\n",
              "              style=\"display:none;\">\n",
              "        \n",
              "  <svg xmlns=\"http://www.w3.org/2000/svg\" height=\"24px\"viewBox=\"0 0 24 24\"\n",
              "       width=\"24px\">\n",
              "    <path d=\"M0 0h24v24H0V0z\" fill=\"none\"/>\n",
              "    <path d=\"M18.56 5.44l.94 2.06.94-2.06 2.06-.94-2.06-.94-.94-2.06-.94 2.06-2.06.94zm-11 1L8.5 8.5l.94-2.06 2.06-.94-2.06-.94L8.5 2.5l-.94 2.06-2.06.94zm10 10l.94 2.06.94-2.06 2.06-.94-2.06-.94-.94-2.06-.94 2.06-2.06.94z\"/><path d=\"M17.41 7.96l-1.37-1.37c-.4-.4-.92-.59-1.43-.59-.52 0-1.04.2-1.43.59L10.3 9.45l-7.72 7.72c-.78.78-.78 2.05 0 2.83L4 21.41c.39.39.9.59 1.41.59.51 0 1.02-.2 1.41-.59l7.78-7.78 2.81-2.81c.8-.78.8-2.07 0-2.86zM5.41 20L4 18.59l7.72-7.72 1.47 1.35L5.41 20z\"/>\n",
              "  </svg>\n",
              "      </button>\n",
              "      \n",
              "  <style>\n",
              "    .colab-df-container {\n",
              "      display:flex;\n",
              "      flex-wrap:wrap;\n",
              "      gap: 12px;\n",
              "    }\n",
              "\n",
              "    .colab-df-convert {\n",
              "      background-color: #E8F0FE;\n",
              "      border: none;\n",
              "      border-radius: 50%;\n",
              "      cursor: pointer;\n",
              "      display: none;\n",
              "      fill: #1967D2;\n",
              "      height: 32px;\n",
              "      padding: 0 0 0 0;\n",
              "      width: 32px;\n",
              "    }\n",
              "\n",
              "    .colab-df-convert:hover {\n",
              "      background-color: #E2EBFA;\n",
              "      box-shadow: 0px 1px 2px rgba(60, 64, 67, 0.3), 0px 1px 3px 1px rgba(60, 64, 67, 0.15);\n",
              "      fill: #174EA6;\n",
              "    }\n",
              "\n",
              "    [theme=dark] .colab-df-convert {\n",
              "      background-color: #3B4455;\n",
              "      fill: #D2E3FC;\n",
              "    }\n",
              "\n",
              "    [theme=dark] .colab-df-convert:hover {\n",
              "      background-color: #434B5C;\n",
              "      box-shadow: 0px 1px 3px 1px rgba(0, 0, 0, 0.15);\n",
              "      filter: drop-shadow(0px 1px 2px rgba(0, 0, 0, 0.3));\n",
              "      fill: #FFFFFF;\n",
              "    }\n",
              "  </style>\n",
              "\n",
              "      <script>\n",
              "        const buttonEl =\n",
              "          document.querySelector('#df-daa4b2d9-511b-4bf8-8062-f98862a22040 button.colab-df-convert');\n",
              "        buttonEl.style.display =\n",
              "          google.colab.kernel.accessAllowed ? 'block' : 'none';\n",
              "\n",
              "        async function convertToInteractive(key) {\n",
              "          const element = document.querySelector('#df-daa4b2d9-511b-4bf8-8062-f98862a22040');\n",
              "          const dataTable =\n",
              "            await google.colab.kernel.invokeFunction('convertToInteractive',\n",
              "                                                     [key], {});\n",
              "          if (!dataTable) return;\n",
              "\n",
              "          const docLinkHtml = 'Like what you see? Visit the ' +\n",
              "            '<a target=\"_blank\" href=https://colab.research.google.com/notebooks/data_table.ipynb>data table notebook</a>'\n",
              "            + ' to learn more about interactive tables.';\n",
              "          element.innerHTML = '';\n",
              "          dataTable['output_type'] = 'display_data';\n",
              "          await google.colab.output.renderOutput(dataTable, element);\n",
              "          const docLink = document.createElement('div');\n",
              "          docLink.innerHTML = docLinkHtml;\n",
              "          element.appendChild(docLink);\n",
              "        }\n",
              "      </script>\n",
              "    </div>\n",
              "  </div>\n",
              "  "
            ]
          },
          "metadata": {},
          "execution_count": 18
        }
      ]
    },
    {
      "cell_type": "code",
      "source": [
        "from sklearn.feature_extraction.text import TfidfTransformer\n",
        "\n",
        "tfidf = TfidfTransformer()\n",
        "tfidf.fit_transform(counts).toarray()"
      ],
      "metadata": {
        "colab": {
          "base_uri": "https://localhost:8080/"
        },
        "id": "zdnBnmLWryVB",
        "outputId": "f60a2b71-b899-4b2f-f91f-0772960e4421"
      },
      "execution_count": 19,
      "outputs": [
        {
          "output_type": "execute_result",
          "data": {
            "text/plain": [
              "array([[0.00, 0.63, 0.77],\n",
              "       [0.89, 0.46, 0.00],\n",
              "       [0.00, 0.63, 0.77],\n",
              "       [0.00, 0.85, 0.52]])"
            ]
          },
          "metadata": {},
          "execution_count": 19
        }
      ]
    },
    {
      "cell_type": "markdown",
      "source": [
        "TFIDF Vectorizer"
      ],
      "metadata": {
        "id": "AwpO_HlLsDVG"
      }
    },
    {
      "cell_type": "code",
      "source": [
        "from sklearn.feature_extraction.text import TfidfVectorizer\n",
        "\n",
        "tfidf_vectorizer = TfidfVectorizer()\n",
        "tfidf_vectorizer.fit_transform(documents).toarray()"
      ],
      "metadata": {
        "colab": {
          "base_uri": "https://localhost:8080/"
        },
        "id": "TeXAFQ09sQnf",
        "outputId": "61f9ad17-f9eb-47f6-aacc-d069a24ebf73"
      },
      "execution_count": 20,
      "outputs": [
        {
          "output_type": "execute_result",
          "data": {
            "text/plain": [
              "array([[0.00, 0.63, 0.77],\n",
              "       [0.89, 0.46, 0.00],\n",
              "       [0.00, 0.63, 0.77],\n",
              "       [0.00, 0.85, 0.52]])"
            ]
          },
          "metadata": {},
          "execution_count": 20
        }
      ]
    },
    {
      "cell_type": "code",
      "source": [
        "tfidf_vectorizer.idf_"
      ],
      "metadata": {
        "colab": {
          "base_uri": "https://localhost:8080/"
        },
        "id": "DFPh6x4Jsdun",
        "outputId": "ee6b810b-e0f7-47eb-e789-d8968d0e2b35"
      },
      "execution_count": 21,
      "outputs": [
        {
          "output_type": "execute_result",
          "data": {
            "text/plain": [
              "array([1.92, 1.00, 1.22])"
            ]
          },
          "metadata": {},
          "execution_count": 21
        }
      ]
    },
    {
      "cell_type": "markdown",
      "source": [
        "Preparing text data - example"
      ],
      "metadata": {
        "id": "6mB0D2F7shY4"
      }
    },
    {
      "cell_type": "code",
      "source": [
        "from sklearn.datasets import fetch_20newsgroups"
      ],
      "metadata": {
        "id": "FOGNjMsfsphu"
      },
      "execution_count": 22,
      "outputs": []
    },
    {
      "cell_type": "code",
      "source": [
        "raw_data = fetch_20newsgroups(subset='train', categories=['comp.graphics'], random_state=42)\n",
        "raw_data.keys()"
      ],
      "metadata": {
        "colab": {
          "base_uri": "https://localhost:8080/"
        },
        "id": "iD9oTidosur4",
        "outputId": "307c90b5-1ad2-4073-8e47-0672e7006d83"
      },
      "execution_count": 23,
      "outputs": [
        {
          "output_type": "execute_result",
          "data": {
            "text/plain": [
              "dict_keys(['data', 'filenames', 'target_names', 'target', 'DESCR'])"
            ]
          },
          "metadata": {},
          "execution_count": 23
        }
      ]
    },
    {
      "cell_type": "code",
      "source": [
        "all_data = raw_data.copy()\n",
        "all_data['data'][:5]"
      ],
      "metadata": {
        "colab": {
          "base_uri": "https://localhost:8080/"
        },
        "id": "GockgVmHs8U-",
        "outputId": "bbc668af-5ad1-4808-f810-439c0b82cc6f"
      },
      "execution_count": 24,
      "outputs": [
        {
          "output_type": "execute_result",
          "data": {
            "text/plain": [
              "[\"From: bbs.mirage@tsoft.net (Jerry Lee)\\nSubject: Cobra 2.0 1-b-1 Video card HELP ME!!!!\\nOrganization: The TSoft BBS and Public Access Unix, +1 415 969 8238\\nLines: 22\\n\\nDoes ANYONE out there in Net-land have any information on the Cobra 2.20 \\ncard?  The sticker on the end of the card reads\\n        Model: Cobra 1-B-1\\n        Bios:  Cobra v2.20\\n\\nI Havn't been able to find anything about it from anyone!  If you have \\nany information on how to get a hold of the company which produces the \\ncard or know where any drivers are for it, PLEASE let me know!\\n\\nAs far as I can tell, it's a CGA card that is taking up 2 of my 16-bit \\nISA slots but when I enable the test patterns, it displays much more than \\nthe usualy 4 CGA colors... At least 16 from what I can count.. Thanks!\\n\\n              .------------------------------------------.\\n              : Internet: jele@eis.calstate.edu          :\\n              :           bbs.mirage@gilligan.tsoft.net  :\\n              :           bbs.mirage@tsoft.sf-bay.org    :\\n              :           mirage@thetech.com             :\\n              : UUCP    : apple.com!tsoft!bbs.mirage     :\\n              `------------------------------------------'\\n \\n                    Computer and Video Imaging Major\\n\",\n",
              " 'From: zyeh@caspian.usc.edu (zhenghao yeh)\\nSubject: Ellipse Again\\nOrganization: University of Southern California, Los Angeles, CA\\nLines: 39\\nDistribution: world\\nNNTP-Posting-Host: caspian.usc.edu\\nKeywords: ellipse\\n\\n\\nHi! Everyone,\\n\\nBecause no one has touched the problem I posted last week, I guess\\nmy question was not so clear. Now I\\'d like to describe it in detail:\\n\\nThe offset of an ellipse is the locus of the center of a circle which\\nrolls on the ellipse. In other words, the distance between the ellipse\\nand its offset is same everywhere.\\n\\nThis problem comes from the geometric measurement when a probe is used.\\nThe tip of the probe is a ball and the computer just outputs the\\npositions of the ball\\'s center. Is the offset of an ellipse still\\nan ellipse? The answer is no! Ironically, DMIS - an American Indutrial\\nStandard says it is ellipse. So almost all the software which was\\nimplemented on the base of DMIS was wrong. The software was also sold\\ninternationaly. Imagine, how many people have or will suffer from this bug!!!\\nHow many qualified parts with ellipse were/will be discarded? And most\\nimportantly, how many defective parts with ellipse are/will be used?\\n\\nI was employed as a consultant by a company in Los Angeles last year\\nto specially solve this problem. I spent two months on analysis of this\\nproblem and six months on programming. Now my solution (nonlinear)\\nis not ideal because I can only reconstruct an ellipse from its entire\\nor half offset. It is very difficult to find the original ellipse from\\na quarter or a segment of its offset because the method I used is not\\nanalytical. I am now wondering if I didn\\'t touch the base and make things\\ncomplicated. Please give me a hint.\\n\\nI know you may argue this is not a CG problem. You are right, it is not.\\nHowever, so many people involved in the problem \"sphere from 4 poits\".\\nWhy not an ellipse? And why not its offset?\\n\\nPlease post here and let the others share our interests \\n(I got several emails from our netters, they said they need the\\nsummary of the answers).\\n\\nYeh\\nUSC\\n',\n",
              " \"From: lau@auriga.rose.brandeis.edu (frankie t. k. lau)\\nSubject: PC fastest line/circle drawing routines: HELP!\\nOrganization: Brandeis University\\nLines: 41\\n\\nhi all,\\n\\nIN SHORT: looking for very fast assembly code for line/circle drawing\\n\\t  on SVGA graphics.\\n\\nCOMPLETE:\\n\\tI am thinking of a simple but fast molecular\\ngraphics program to write on PC or clones. (ball-and-stick type)\\n\\nReasons: programs that I've seen are far too slow for this purpose.\\n\\nPlatform: 386/486 class machine.\\n\\t  800x600-16 or 1024x728-16 VGA graphics\\n\\t\\t(speed is important, 16-color for non-rendering\\n\\t\\t purpose is enough; may stay at 800x600 for\\n\\t\\t speed reason.)\\n         (hope the code would be generic enough for different SVGA\\n          cards.  My own card is based on Trident 8900c, not VESA?)\\n\\nWhat I'm looking for?\\n1) fast, very fast routines to draw lines/circles/simple-shapes\\n   on above-mentioned SVGA resolutions.\\n   Presumably in assembly languagine.\\n\\tYes, VERY FAST please.\\n2) related codes to help rotating/zooming/animating the drawings on screen.\\n   Drawings for beginning, would be lines, circles mainly, think of\\n   text, else later.\\n   (you know, the way molecular graphics rotates, zooms a molecule)\\n2) and any other codes (preferentially in C) that can help the \\n   project.\\n\\nFinal remarks;-\\nnon-profit.  expected to become share-, free-ware.\\n\\n\\tAny help is appreciated.\\n\\tthanks\\n\\n-Frankie\\nlau@tammy.harvard.edu\\n\\nPS pls also email, I may miss reply-post.\\n\",\n",
              " 'From: weilej@cary115.its.rpi.edu (Jason Lee Weiler)\\nSubject: Re: Sun IPX root window display - background picture\\nKeywords: sun ipx background picture\\nArticle-I.D.: rpi.gc15hqk\\nReply-To: weilej@rpi.edu\\nOrganization: Rensselaer Polytechnic Institute, Troy, NY.\\nLines: 31\\nNntp-Posting-Host: cary115.its.rpi.edu\\n\\nIn article <1993Apr19.220817.22480@osi.com>, scott@osi.com (Scott Fleming) writes:\\n|> \\n|> Hello netters!\\n|>  \\n|> I have a fairly weak question to ask everybody in netland.  I\\'ve looked though\\n|> the last FAQ for comp.graphics but I didn\\'t find my answer.  Thus the post.\\n|>  \\n|> I\\'ll keep it short.\\n|>  \\n|> QUESTION:  How do I display any raster files, gif files, iff or tiff images\\n|> that I have on my \"root window\" or background?  I have a sun ipc, openwindows\\n|> 3.0, Sun OS 4.1.3 if that helps any.\\n|>  \\n|> I\\'ve compiled POV for the sun and would like to display some of the work I have\\n|> done as a background/tile.  Thanks for any help or information that you\\n|> provide.  Have a good day.\\n|>  \\n|> Scott Fleming\\n|> OSI\\n|>  \\n|> P.S.\\n|> Kudo\\'s to the people who provided POV, its great!\\n|> \\n\\nScott,\\n\\tI\\'m not so sure if this is helpful, but I usually use XV v2.21.  I use Sun IPCs and IPXs, and it works fine.  It can display in a good number of ways.(root being one of them)  It\\'s also possible to have XV put up a background automatically at login.  Hope this helps.\\n\\nJason Weiler\\n<weilej@rpi.edu>\\n\\nBTW  XV v2.21 is on anonymous FTP somewhere. (archie fer it!)\\n',\n",
              " 'From: clldomps@cs.ruu.nl (Louis van Dompselaar)\\nSubject: Re: images of earth\\nOrganization: Utrecht University, Dept. of Computer Science\\nLines: 17\\n\\nIn <C5q0HK.KoD@hawnews.watson.ibm.com> ricky@watson.ibm.com (Rick Turner) writes:\\n\\n>Look in the /pub/SPACE directory on ames.arc.nasa.gov - there are a number\\n>of earth images there. You may have to hunt around the subdirectories as\\n>things tend to be filed under the mission (ie, \"APOLLO\") rather than under\\t\\n>the image subject.\\t\\n>\\nFor those of you who don\\'t need 24 bit, I got a 32 colour Amiga IFF\\nof a cloudless Earth (scanned). Looks okay when mapped on a sphere.\\nE-mail me and I\\'ll send it you...\\n\\nLouis\\n\\n-- \\nI\\'m hanging on your words, Living on your breath, Feeling with your skin,\\nWill I always be here?  -- In Your Room [ DM ]\\n\\n']"
            ]
          },
          "metadata": {},
          "execution_count": 24
        }
      ]
    },
    {
      "cell_type": "code",
      "source": [
        "print(all_data['data'][0])"
      ],
      "metadata": {
        "colab": {
          "base_uri": "https://localhost:8080/"
        },
        "id": "jcV6nx2OtEd3",
        "outputId": "72b0ad06-af62-4b2a-eeba-fd00a5f5eaa3"
      },
      "execution_count": 25,
      "outputs": [
        {
          "output_type": "stream",
          "name": "stdout",
          "text": [
            "From: bbs.mirage@tsoft.net (Jerry Lee)\n",
            "Subject: Cobra 2.0 1-b-1 Video card HELP ME!!!!\n",
            "Organization: The TSoft BBS and Public Access Unix, +1 415 969 8238\n",
            "Lines: 22\n",
            "\n",
            "Does ANYONE out there in Net-land have any information on the Cobra 2.20 \n",
            "card?  The sticker on the end of the card reads\n",
            "        Model: Cobra 1-B-1\n",
            "        Bios:  Cobra v2.20\n",
            "\n",
            "I Havn't been able to find anything about it from anyone!  If you have \n",
            "any information on how to get a hold of the company which produces the \n",
            "card or know where any drivers are for it, PLEASE let me know!\n",
            "\n",
            "As far as I can tell, it's a CGA card that is taking up 2 of my 16-bit \n",
            "ISA slots but when I enable the test patterns, it displays much more than \n",
            "the usualy 4 CGA colors... At least 16 from what I can count.. Thanks!\n",
            "\n",
            "              .------------------------------------------.\n",
            "              : Internet: jele@eis.calstate.edu          :\n",
            "              :           bbs.mirage@gilligan.tsoft.net  :\n",
            "              :           bbs.mirage@tsoft.sf-bay.org    :\n",
            "              :           mirage@thetech.com             :\n",
            "              : UUCP    : apple.com!tsoft!bbs.mirage     :\n",
            "              `------------------------------------------'\n",
            " \n",
            "                    Computer and Video Imaging Major\n",
            "\n"
          ]
        }
      ]
    },
    {
      "cell_type": "code",
      "source": [
        "all_data['target_names']"
      ],
      "metadata": {
        "colab": {
          "base_uri": "https://localhost:8080/"
        },
        "id": "9JSjh0JJtNhO",
        "outputId": "91e90ad4-94ce-4161-c3fe-29f6c6ecc253"
      },
      "execution_count": 26,
      "outputs": [
        {
          "output_type": "execute_result",
          "data": {
            "text/plain": [
              "['comp.graphics']"
            ]
          },
          "metadata": {},
          "execution_count": 26
        }
      ]
    },
    {
      "cell_type": "code",
      "source": [
        "all_data['target'][:10]"
      ],
      "metadata": {
        "colab": {
          "base_uri": "https://localhost:8080/"
        },
        "id": "h_FgcGDftSdO",
        "outputId": "bc23edd1-9e68-4392-8faa-5c73045d00d4"
      },
      "execution_count": 27,
      "outputs": [
        {
          "output_type": "execute_result",
          "data": {
            "text/plain": [
              "array([0, 0, 0, 0, 0, 0, 0, 0, 0, 0])"
            ]
          },
          "metadata": {},
          "execution_count": 27
        }
      ]
    },
    {
      "cell_type": "code",
      "source": [
        "tfidf = TfidfVectorizer()\n",
        "tfidf.fit_transform(all_data['data']).toarray()"
      ],
      "metadata": {
        "colab": {
          "base_uri": "https://localhost:8080/"
        },
        "id": "Xz_FXBLDtWBB",
        "outputId": "03c97ca8-68ec-48b7-e0cc-452fb2a3856c"
      },
      "execution_count": 28,
      "outputs": [
        {
          "output_type": "execute_result",
          "data": {
            "text/plain": [
              "array([[0.00, 0.00, 0.00, 0.00, 0.00, 0.00, 0.00, 0.00, 0.00, 0.00, ..., 0.00, 0.00, 0.00, 0.00, 0.00, 0.00, 0.00, 0.00, 0.00, 0.00],\n",
              "       [0.00, 0.00, 0.00, 0.00, 0.00, 0.00, 0.00, 0.00, 0.00, 0.00, ..., 0.00, 0.00, 0.00, 0.00, 0.00, 0.00, 0.00, 0.04, 0.00, 0.00],\n",
              "       [0.00, 0.00, 0.00, 0.00, 0.00, 0.00, 0.00, 0.00, 0.00, 0.00, ..., 0.00, 0.00, 0.00, 0.00, 0.00, 0.00, 0.00, 0.00, 0.00, 0.00],\n",
              "       [0.00, 0.00, 0.00, 0.00, 0.00, 0.00, 0.00, 0.00, 0.00, 0.00, ..., 0.00, 0.00, 0.00, 0.00, 0.00, 0.00, 0.00, 0.00, 0.00, 0.00],\n",
              "       [0.00, 0.00, 0.00, 0.00, 0.00, 0.00, 0.00, 0.00, 0.00, 0.00, ..., 0.00, 0.00, 0.00, 0.00, 0.00, 0.00, 0.00, 0.00, 0.00, 0.00],\n",
              "       [0.00, 0.00, 0.00, 0.00, 0.00, 0.00, 0.00, 0.00, 0.00, 0.00, ..., 0.00, 0.00, 0.00, 0.00, 0.00, 0.00, 0.00, 0.00, 0.00, 0.00],\n",
              "       [0.00, 0.00, 0.00, 0.00, 0.00, 0.00, 0.00, 0.00, 0.00, 0.00, ..., 0.00, 0.00, 0.00, 0.00, 0.00, 0.00, 0.00, 0.00, 0.00, 0.00],\n",
              "       [0.00, 0.00, 0.00, 0.00, 0.00, 0.00, 0.00, 0.00, 0.00, 0.00, ..., 0.00, 0.00, 0.00, 0.00, 0.00, 0.00, 0.00, 0.00, 0.00, 0.00],\n",
              "       [0.00, 0.00, 0.00, 0.00, 0.00, 0.00, 0.00, 0.00, 0.00, 0.00, ..., 0.00, 0.00, 0.00, 0.00, 0.00, 0.00, 0.00, 0.00, 0.00, 0.00],\n",
              "       [0.00, 0.09, 0.00, 0.00, 0.00, 0.00, 0.00, 0.00, 0.00, 0.00, ..., 0.00, 0.00, 0.00, 0.00, 0.00, 0.00, 0.00, 0.00, 0.00, 0.00],\n",
              "       ...,\n",
              "       [0.00, 0.00, 0.00, 0.00, 0.00, 0.00, 0.00, 0.00, 0.00, 0.00, ..., 0.00, 0.00, 0.00, 0.00, 0.00, 0.00, 0.00, 0.00, 0.00, 0.00],\n",
              "       [0.00, 0.00, 0.00, 0.00, 0.00, 0.00, 0.00, 0.00, 0.00, 0.00, ..., 0.00, 0.00, 0.00, 0.00, 0.00, 0.00, 0.00, 0.00, 0.00, 0.00],\n",
              "       [0.00, 0.00, 0.00, 0.00, 0.00, 0.00, 0.00, 0.00, 0.00, 0.00, ..., 0.00, 0.00, 0.00, 0.00, 0.00, 0.00, 0.00, 0.00, 0.00, 0.00],\n",
              "       [0.00, 0.00, 0.00, 0.00, 0.00, 0.00, 0.00, 0.00, 0.00, 0.00, ..., 0.00, 0.00, 0.00, 0.00, 0.00, 0.00, 0.00, 0.00, 0.00, 0.00],\n",
              "       [0.00, 0.00, 0.00, 0.00, 0.00, 0.00, 0.00, 0.00, 0.00, 0.00, ..., 0.00, 0.00, 0.00, 0.00, 0.00, 0.00, 0.00, 0.00, 0.00, 0.00],\n",
              "       [0.00, 0.00, 0.00, 0.00, 0.00, 0.00, 0.00, 0.00, 0.00, 0.00, ..., 0.00, 0.00, 0.00, 0.00, 0.00, 0.00, 0.00, 0.00, 0.00, 0.00],\n",
              "       [0.00, 0.00, 0.00, 0.00, 0.00, 0.00, 0.00, 0.00, 0.00, 0.00, ..., 0.00, 0.00, 0.00, 0.00, 0.00, 0.00, 0.00, 0.00, 0.00, 0.00],\n",
              "       [0.00, 0.00, 0.00, 0.00, 0.00, 0.00, 0.00, 0.00, 0.00, 0.00, ..., 0.00, 0.00, 0.00, 0.00, 0.00, 0.00, 0.00, 0.00, 0.00, 0.00],\n",
              "       [0.00, 0.00, 0.00, 0.00, 0.00, 0.00, 0.00, 0.00, 0.00, 0.00, ..., 0.00, 0.00, 0.00, 0.00, 0.00, 0.00, 0.00, 0.00, 0.00, 0.00],\n",
              "       [0.00, 0.00, 0.00, 0.00, 0.00, 0.00, 0.00, 0.00, 0.00, 0.00, ..., 0.00, 0.00, 0.00, 0.00, 0.00, 0.00, 0.00, 0.00, 0.00, 0.00]])"
            ]
          },
          "metadata": {},
          "execution_count": 28
        }
      ]
    }
  ]
}